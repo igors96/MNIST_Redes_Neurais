{
  "metadata": {
    "kernelspec": {
      "language": "python",
      "display_name": "Python 3",
      "name": "python3"
    },
    "language_info": {
      "name": "python",
      "version": "3.7.10",
      "mimetype": "text/x-python",
      "codemirror_mode": {
        "name": "ipython",
        "version": 3
      },
      "pygments_lexer": "ipython3",
      "nbconvert_exporter": "python",
      "file_extension": ".py"
    },
    "colab": {
      "provenance": [],
      "include_colab_link": true
    }
  },
  "nbformat_minor": 0,
  "nbformat": 4,
  "cells": [
    {
      "cell_type": "markdown",
      "metadata": {
        "id": "view-in-github",
        "colab_type": "text"
      },
      "source": [
        "<a href=\"https://colab.research.google.com/github/igors96/MNIST_Redes_Neurais/blob/main/MNIST_Redes_Neurais.ipynb\" target=\"_parent\"><img src=\"https://colab.research.google.com/assets/colab-badge.svg\" alt=\"Open In Colab\"/></a>"
      ]
    },
    {
      "cell_type": "code",
      "source": [
        "import warnings\n",
        "warnings.filterwarnings('ignore')\n",
        "import keras\n",
        "from keras.datasets import mnist"
      ],
      "metadata": {
        "execution": {
          "iopub.status.busy": "2022-10-20T20:52:48.687078Z",
          "iopub.execute_input": "2022-10-20T20:52:48.687483Z",
          "iopub.status.idle": "2022-10-20T20:52:55.387697Z",
          "shell.execute_reply.started": "2022-10-20T20:52:48.687383Z",
          "shell.execute_reply": "2022-10-20T20:52:55.386753Z"
        },
        "trusted": true,
        "id": "OGlcGh5yMwCp"
      },
      "execution_count": null,
      "outputs": []
    },
    {
      "cell_type": "code",
      "source": [
        "(x_treino, y_treino), (x_teste, y_teste) = mnist.load_data()"
      ],
      "metadata": {
        "execution": {
          "iopub.status.busy": "2022-10-20T20:52:55.389167Z",
          "iopub.execute_input": "2022-10-20T20:52:55.389413Z",
          "iopub.status.idle": "2022-10-20T20:52:55.873631Z",
          "shell.execute_reply.started": "2022-10-20T20:52:55.389383Z",
          "shell.execute_reply": "2022-10-20T20:52:55.872654Z"
        },
        "trusted": true,
        "id": "eTTweQIcMwCr",
        "outputId": "920f3ff1-6ccd-46ba-b55e-48ea0aea688c"
      },
      "execution_count": null,
      "outputs": [
        {
          "name": "stdout",
          "text": "Downloading data from https://storage.googleapis.com/tensorflow/tf-keras-datasets/mnist.npz\n11493376/11490434 [==============================] - 0s 0us/step\n11501568/11490434 [==============================] - 0s 0us/step\n",
          "output_type": "stream"
        }
      ]
    },
    {
      "cell_type": "code",
      "source": [
        "x_treino.shape"
      ],
      "metadata": {
        "execution": {
          "iopub.status.busy": "2022-10-20T20:52:55.874801Z",
          "iopub.execute_input": "2022-10-20T20:52:55.875056Z",
          "iopub.status.idle": "2022-10-20T20:52:55.883908Z",
          "shell.execute_reply.started": "2022-10-20T20:52:55.875022Z",
          "shell.execute_reply": "2022-10-20T20:52:55.882981Z"
        },
        "trusted": true,
        "id": "AIvnHV8qMwCt",
        "outputId": "b05503fa-9f78-4fc1-c5c5-67eaf5e7771a"
      },
      "execution_count": null,
      "outputs": [
        {
          "execution_count": 3,
          "output_type": "execute_result",
          "data": {
            "text/plain": "(60000, 28, 28)"
          },
          "metadata": {}
        }
      ]
    },
    {
      "cell_type": "code",
      "source": [
        "from keras.utils import np_utils\n",
        "y_treino_convertido = np_utils.to_categorical(y_treino)\n",
        "y_teste_convertido = np_utils.to_categorical(y_teste)"
      ],
      "metadata": {
        "execution": {
          "iopub.status.busy": "2022-10-20T20:52:55.885767Z",
          "iopub.execute_input": "2022-10-20T20:52:55.886007Z",
          "iopub.status.idle": "2022-10-20T20:52:55.902842Z",
          "shell.execute_reply.started": "2022-10-20T20:52:55.885979Z",
          "shell.execute_reply": "2022-10-20T20:52:55.901864Z"
        },
        "trusted": true,
        "id": "s7oe83suMwCt"
      },
      "execution_count": null,
      "outputs": []
    },
    {
      "cell_type": "code",
      "source": [
        "y_treino_convertido[0]"
      ],
      "metadata": {
        "execution": {
          "iopub.status.busy": "2022-10-20T20:52:55.904596Z",
          "iopub.execute_input": "2022-10-20T20:52:55.904948Z",
          "iopub.status.idle": "2022-10-20T20:52:55.940829Z",
          "shell.execute_reply.started": "2022-10-20T20:52:55.904901Z",
          "shell.execute_reply": "2022-10-20T20:52:55.939278Z"
        },
        "trusted": true,
        "id": "N4ztZffKMwCu",
        "outputId": "e7fc7ae6-22b5-4664-9bca-022df89541a8"
      },
      "execution_count": null,
      "outputs": [
        {
          "execution_count": 5,
          "output_type": "execute_result",
          "data": {
            "text/plain": "array([0., 0., 0., 0., 0., 1., 0., 0., 0., 0.], dtype=float32)"
          },
          "metadata": {}
        }
      ]
    },
    {
      "cell_type": "code",
      "source": [
        "import matplotlib.pyplot as plt\n",
        "plt.imshow(x_treino[156], cmap = 'gray')"
      ],
      "metadata": {
        "execution": {
          "iopub.status.busy": "2022-10-20T20:52:55.942493Z",
          "iopub.execute_input": "2022-10-20T20:52:55.942806Z",
          "iopub.status.idle": "2022-10-20T20:52:56.270714Z",
          "shell.execute_reply.started": "2022-10-20T20:52:55.942772Z",
          "shell.execute_reply": "2022-10-20T20:52:56.269633Z"
        },
        "trusted": true,
        "id": "ydTXiQLDMwCu",
        "outputId": "fe7e5f1c-7fa9-4520-ff15-e569ac238b05"
      },
      "execution_count": null,
      "outputs": [
        {
          "execution_count": 6,
          "output_type": "execute_result",
          "data": {
            "text/plain": "<matplotlib.image.AxesImage at 0x7fe26fdf1110>"
          },
          "metadata": {}
        },
        {
          "output_type": "display_data",
          "data": {
            "text/plain": "<Figure size 432x288 with 1 Axes>",
            "image/png": "[encoded data removed]"
          },
          "metadata": {
            "needs_background": "light"
          }
        }
      ]
    },
    {
      "cell_type": "code",
      "source": [
        "from keras.models import Sequential\n",
        "from keras.layers import Dense, Activation\n",
        "from keras import regularizers\n",
        "from keras.layers import Dropout"
      ],
      "metadata": {
        "execution": {
          "iopub.status.busy": "2022-10-20T20:52:56.271831Z",
          "iopub.execute_input": "2022-10-20T20:52:56.272074Z",
          "iopub.status.idle": "2022-10-20T20:52:56.278364Z",
          "shell.execute_reply.started": "2022-10-20T20:52:56.272043Z",
          "shell.execute_reply": "2022-10-20T20:52:56.276826Z"
        },
        "trusted": true,
        "id": "OaIsTeMJMwCv"
      },
      "execution_count": null,
      "outputs": []
    },
    {
      "cell_type": "code",
      "source": [
        "x_treino.shape"
      ],
      "metadata": {
        "execution": {
          "iopub.status.busy": "2022-10-20T20:52:56.279828Z",
          "iopub.execute_input": "2022-10-20T20:52:56.280065Z",
          "iopub.status.idle": "2022-10-20T20:52:56.294092Z",
          "shell.execute_reply.started": "2022-10-20T20:52:56.280035Z",
          "shell.execute_reply": "2022-10-20T20:52:56.293243Z"
        },
        "trusted": true,
        "id": "QgmnV1P1MwCv",
        "outputId": "1859eeaf-f5eb-45d7-b57e-66b0fe89c5cb"
      },
      "execution_count": null,
      "outputs": [
        {
          "execution_count": 8,
          "output_type": "execute_result",
          "data": {
            "text/plain": "(60000, 28, 28)"
          },
          "metadata": {}
        }
      ]
    },
    {
      "cell_type": "code",
      "source": [
        "x_treino_remodelado = x_treino.reshape((60000, 784))\n",
        "x_teste_remodelado = x_teste.reshape((10000, 784))"
      ],
      "metadata": {
        "execution": {
          "iopub.status.busy": "2022-10-20T20:52:56.295903Z",
          "iopub.execute_input": "2022-10-20T20:52:56.296168Z",
          "iopub.status.idle": "2022-10-20T20:52:56.305612Z",
          "shell.execute_reply.started": "2022-10-20T20:52:56.296134Z",
          "shell.execute_reply": "2022-10-20T20:52:56.304869Z"
        },
        "trusted": true,
        "id": "iSnT_-dyMwCw"
      },
      "execution_count": null,
      "outputs": []
    },
    {
      "cell_type": "code",
      "source": [
        "x_treino_normalizado = x_treino_remodelado.astype('float32') / 255\n",
        "x_teste_normalizado = x_teste_remodelado.astype('float32') / 255"
      ],
      "metadata": {
        "execution": {
          "iopub.status.busy": "2022-10-20T20:52:56.308412Z",
          "iopub.execute_input": "2022-10-20T20:52:56.308688Z",
          "iopub.status.idle": "2022-10-20T20:52:56.437473Z",
          "shell.execute_reply.started": "2022-10-20T20:52:56.308648Z",
          "shell.execute_reply": "2022-10-20T20:52:56.436641Z"
        },
        "trusted": true,
        "id": "qpVsZ8ieMwCw"
      },
      "execution_count": null,
      "outputs": []
    },
    {
      "cell_type": "code",
      "source": [
        "x_treino_normalizado[0]"
      ],
      "metadata": {
        "execution": {
          "iopub.status.busy": "2022-10-20T20:52:56.438667Z",
          "iopub.execute_input": "2022-10-20T20:52:56.438897Z",
          "iopub.status.idle": "2022-10-20T20:52:56.453246Z",
          "shell.execute_reply.started": "2022-10-20T20:52:56.438870Z",
          "shell.execute_reply": "2022-10-20T20:52:56.452220Z"
        },
        "trusted": true,
        "id": "HWvcx-bYMwCx",
        "outputId": "49208579-16c4-46af-8c4d-9df759567e6e"
      },
      "execution_count": null,
      "outputs": [
        {
          "execution_count": 11,
          "output_type": "execute_result",
          "data": {
            "text/plain": "array([0.        , 0.        , 0.        , 0.        , 0.        ,\n       0.        , 0.        , 0.        , 0.        , 0.        ,\n       0.        , 0.        , 0.        , 0.        , 0.        ,\n       0.        , 0.        , 0.        , 0.        , 0.        ,\n       0.        , 0.        , 0.        , 0.        , 0.        ,\n       0.        , 0.        , 0.        , 0.        , 0.        ,\n       0.        , 0.        , 0.        , 0.        , 0.        ,\n       0.        , 0.        , 0.        , 0.        , 0.        ,\n       0.        , 0.        , 0.        , 0.        , 0.        ,\n       0.        , 0.        , 0.        , 0.        , 0.        ,\n       0.        , 0.        , 0.        , 0.        , 0.        ,\n       0.        , 0.        , 0.        , 0.        , 0.        ,\n       0.        , 0.        , 0.        , 0.        , 0.        ,\n       0.        , 0.        , 0.        , 0.        , 0.        ,\n       0.        , 0.        , 0.        , 0.        , 0.        ,\n       0.        , 0.        , 0.        , 0.        , 0.        ,\n       0.        , 0.        , 0.        , 0.        , 0.        ,\n       0.        , 0.        , 0.        , 0.        , 0.        ,\n       0.        , 0.        , 0.        , 0.        , 0.        ,\n       0.        , 0.        , 0.        , 0.        , 0.        ,\n       0.        , 0.        , 0.        , 0.        , 0.        ,\n       0.        , 0.        , 0.        , 0.        , 0.        ,\n       0.        , 0.        , 0.        , 0.        , 0.        ,\n       0.        , 0.        , 0.        , 0.        , 0.        ,\n       0.        , 0.        , 0.        , 0.        , 0.        ,\n       0.        , 0.        , 0.        , 0.        , 0.        ,\n       0.        , 0.        , 0.        , 0.        , 0.        ,\n       0.        , 0.        , 0.        , 0.        , 0.        ,\n       0.        , 0.        , 0.        , 0.        , 0.        ,\n       0.        , 0.        , 0.        , 0.        , 0.        ,\n       0.        , 0.        , 0.01176471, 0.07058824, 0.07058824,\n       0.07058824, 0.49411765, 0.53333336, 0.6862745 , 0.10196079,\n       0.6509804 , 1.        , 0.96862745, 0.49803922, 0.        ,\n       0.        , 0.        , 0.        , 0.        , 0.        ,\n       0.        , 0.        , 0.        , 0.        , 0.        ,\n       0.        , 0.11764706, 0.14117648, 0.36862746, 0.6039216 ,\n       0.6666667 , 0.99215686, 0.99215686, 0.99215686, 0.99215686,\n       0.99215686, 0.88235295, 0.6745098 , 0.99215686, 0.9490196 ,\n       0.7647059 , 0.2509804 , 0.        , 0.        , 0.        ,\n       0.        , 0.        , 0.        , 0.        , 0.        ,\n       0.        , 0.        , 0.        , 0.19215687, 0.93333334,\n       0.99215686, 0.99215686, 0.99215686, 0.99215686, 0.99215686,\n       0.99215686, 0.99215686, 0.99215686, 0.9843137 , 0.3647059 ,\n       0.32156864, 0.32156864, 0.21960784, 0.15294118, 0.        ,\n       0.        , 0.        , 0.        , 0.        , 0.        ,\n       0.        , 0.        , 0.        , 0.        , 0.        ,\n       0.        , 0.07058824, 0.85882354, 0.99215686, 0.99215686,\n       0.99215686, 0.99215686, 0.99215686, 0.7764706 , 0.7137255 ,\n       0.96862745, 0.94509804, 0.        , 0.        , 0.        ,\n       0.        , 0.        , 0.        , 0.        , 0.        ,\n       0.        , 0.        , 0.        , 0.        , 0.        ,\n       0.        , 0.        , 0.        , 0.        , 0.        ,\n       0.3137255 , 0.6117647 , 0.41960785, 0.99215686, 0.99215686,\n       0.8039216 , 0.04313726, 0.        , 0.16862746, 0.6039216 ,\n       0.        , 0.        , 0.        , 0.        , 0.        ,\n       0.        , 0.        , 0.        , 0.        , 0.        ,\n       0.        , 0.        , 0.        , 0.        , 0.        ,\n       0.        , 0.        , 0.        , 0.        , 0.05490196,\n       0.00392157, 0.6039216 , 0.99215686, 0.3529412 , 0.        ,\n       0.        , 0.        , 0.        , 0.        , 0.        ,\n       0.        , 0.        , 0.        , 0.        , 0.        ,\n       0.        , 0.        , 0.        , 0.        , 0.        ,\n       0.        , 0.        , 0.        , 0.        , 0.        ,\n       0.        , 0.        , 0.        , 0.        , 0.54509807,\n       0.99215686, 0.74509805, 0.00784314, 0.        , 0.        ,\n       0.        , 0.        , 0.        , 0.        , 0.        ,\n       0.        , 0.        , 0.        , 0.        , 0.        ,\n       0.        , 0.        , 0.        , 0.        , 0.        ,\n       0.        , 0.        , 0.        , 0.        , 0.        ,\n       0.        , 0.        , 0.04313726, 0.74509805, 0.99215686,\n       0.27450982, 0.        , 0.        , 0.        , 0.        ,\n       0.        , 0.        , 0.        , 0.        , 0.        ,\n       0.        , 0.        , 0.        , 0.        , 0.        ,\n       0.        , 0.        , 0.        , 0.        , 0.        ,\n       0.        , 0.        , 0.        , 0.        , 0.        ,\n       0.        , 0.13725491, 0.94509804, 0.88235295, 0.627451  ,\n       0.42352942, 0.00392157, 0.        , 0.        , 0.        ,\n       0.        , 0.        , 0.        , 0.        , 0.        ,\n       0.        , 0.        , 0.        , 0.        , 0.        ,\n       0.        , 0.        , 0.        , 0.        , 0.        ,\n       0.        , 0.        , 0.        , 0.        , 0.        ,\n       0.31764707, 0.9411765 , 0.99215686, 0.99215686, 0.46666667,\n       0.09803922, 0.        , 0.        , 0.        , 0.        ,\n       0.        , 0.        , 0.        , 0.        , 0.        ,\n       0.        , 0.        , 0.        , 0.        , 0.        ,\n       0.        , 0.        , 0.        , 0.        , 0.        ,\n       0.        , 0.        , 0.        , 0.        , 0.1764706 ,\n       0.7294118 , 0.99215686, 0.99215686, 0.5882353 , 0.10588235,\n       0.        , 0.        , 0.        , 0.        , 0.        ,\n       0.        , 0.        , 0.        , 0.        , 0.        ,\n       0.        , 0.        , 0.        , 0.        , 0.        ,\n       0.        , 0.        , 0.        , 0.        , 0.        ,\n       0.        , 0.        , 0.        , 0.0627451 , 0.3647059 ,\n       0.9882353 , 0.99215686, 0.73333335, 0.        , 0.        ,\n       0.        , 0.        , 0.        , 0.        , 0.        ,\n       0.        , 0.        , 0.        , 0.        , 0.        ,\n       0.        , 0.        , 0.        , 0.        , 0.        ,\n       0.        , 0.        , 0.        , 0.        , 0.        ,\n       0.        , 0.        , 0.        , 0.9764706 , 0.99215686,\n       0.9764706 , 0.2509804 , 0.        , 0.        , 0.        ,\n       0.        , 0.        , 0.        , 0.        , 0.        ,\n       0.        , 0.        , 0.        , 0.        , 0.        ,\n       0.        , 0.        , 0.        , 0.        , 0.        ,\n       0.        , 0.        , 0.        , 0.18039216, 0.50980395,\n       0.7176471 , 0.99215686, 0.99215686, 0.8117647 , 0.00784314,\n       0.        , 0.        , 0.        , 0.        , 0.        ,\n       0.        , 0.        , 0.        , 0.        , 0.        ,\n       0.        , 0.        , 0.        , 0.        , 0.        ,\n       0.        , 0.        , 0.        , 0.        , 0.15294118,\n       0.5803922 , 0.8980392 , 0.99215686, 0.99215686, 0.99215686,\n       0.98039216, 0.7137255 , 0.        , 0.        , 0.        ,\n       0.        , 0.        , 0.        , 0.        , 0.        ,\n       0.        , 0.        , 0.        , 0.        , 0.        ,\n       0.        , 0.        , 0.        , 0.        , 0.        ,\n       0.09411765, 0.44705883, 0.8666667 , 0.99215686, 0.99215686,\n       0.99215686, 0.99215686, 0.7882353 , 0.30588236, 0.        ,\n       0.        , 0.        , 0.        , 0.        , 0.        ,\n       0.        , 0.        , 0.        , 0.        , 0.        ,\n       0.        , 0.        , 0.        , 0.        , 0.        ,\n       0.        , 0.09019608, 0.25882354, 0.8352941 , 0.99215686,\n       0.99215686, 0.99215686, 0.99215686, 0.7764706 , 0.31764707,\n       0.00784314, 0.        , 0.        , 0.        , 0.        ,\n       0.        , 0.        , 0.        , 0.        , 0.        ,\n       0.        , 0.        , 0.        , 0.        , 0.        ,\n       0.        , 0.        , 0.07058824, 0.67058825, 0.85882354,\n       0.99215686, 0.99215686, 0.99215686, 0.99215686, 0.7647059 ,\n       0.3137255 , 0.03529412, 0.        , 0.        , 0.        ,\n       0.        , 0.        , 0.        , 0.        , 0.        ,\n       0.        , 0.        , 0.        , 0.        , 0.        ,\n       0.        , 0.        , 0.        , 0.21568628, 0.6745098 ,\n       0.8862745 , 0.99215686, 0.99215686, 0.99215686, 0.99215686,\n       0.95686275, 0.52156866, 0.04313726, 0.        , 0.        ,\n       0.        , 0.        , 0.        , 0.        , 0.        ,\n       0.        , 0.        , 0.        , 0.        , 0.        ,\n       0.        , 0.        , 0.        , 0.        , 0.        ,\n       0.        , 0.53333336, 0.99215686, 0.99215686, 0.99215686,\n       0.83137256, 0.5294118 , 0.5176471 , 0.0627451 , 0.        ,\n       0.        , 0.        , 0.        , 0.        , 0.        ,\n       0.        , 0.        , 0.        , 0.        , 0.        ,\n       0.        , 0.        , 0.        , 0.        , 0.        ,\n       0.        , 0.        , 0.        , 0.        , 0.        ,\n       0.        , 0.        , 0.        , 0.        , 0.        ,\n       0.        , 0.        , 0.        , 0.        , 0.        ,\n       0.        , 0.        , 0.        , 0.        , 0.        ,\n       0.        , 0.        , 0.        , 0.        , 0.        ,\n       0.        , 0.        , 0.        , 0.        , 0.        ,\n       0.        , 0.        , 0.        , 0.        , 0.        ,\n       0.        , 0.        , 0.        , 0.        , 0.        ,\n       0.        , 0.        , 0.        , 0.        , 0.        ,\n       0.        , 0.        , 0.        , 0.        , 0.        ,\n       0.        , 0.        , 0.        , 0.        , 0.        ,\n       0.        , 0.        , 0.        , 0.        , 0.        ,\n       0.        , 0.        , 0.        , 0.        , 0.        ,\n       0.        , 0.        , 0.        , 0.        , 0.        ,\n       0.        , 0.        , 0.        , 0.        , 0.        ,\n       0.        , 0.        , 0.        , 0.        , 0.        ,\n       0.        , 0.        , 0.        , 0.        ], dtype=float32)"
          },
          "metadata": {}
        }
      ]
    },
    {
      "cell_type": "code",
      "source": [
        "modelo = Sequential()\n",
        "modelo.add(Dense(30, input_dim = 784, kernel_initializer = 'normal', activation = 'relu')) #Entrada & primeira camada oculta\n",
        "modelo.add(Dense(30, kernel_initializer = 'normal', activation = 'relu')) #Segunda camada oculta\n",
        "modelo.add(Dense(10, kernel_initializer = 'normal', activation = 'softmax')) #Saída"
      ],
      "metadata": {
        "execution": {
          "iopub.status.busy": "2022-10-20T20:52:56.454376Z",
          "iopub.execute_input": "2022-10-20T20:52:56.454618Z",
          "iopub.status.idle": "2022-10-20T20:52:56.594905Z",
          "shell.execute_reply.started": "2022-10-20T20:52:56.454589Z",
          "shell.execute_reply": "2022-10-20T20:52:56.593747Z"
        },
        "trusted": true,
        "id": "-z7zcJCgMwCy",
        "outputId": "759a9f30-e07a-4f5f-d71b-1d630e59da08"
      },
      "execution_count": null,
      "outputs": [
        {
          "name": "stderr",
          "text": "\nUser settings:\n\n   KMP_AFFINITY=granularity=fine,verbose,compact,1,0\n   KMP_BLOCKTIME=0\n   KMP_SETTINGS=1\n   KMP_WARNINGS=0\n\nEffective settings:\n\n   KMP_ABORT_DELAY=0\n   KMP_ADAPTIVE_LOCK_PROPS='1,1024'\n   KMP_ALIGN_ALLOC=64\n   KMP_ALL_THREADPRIVATE=128\n   KMP_ATOMIC_MODE=2\n   KMP_BLOCKTIME=0\n   KMP_CPUINFO_FILE: value is not defined\n   KMP_DETERMINISTIC_REDUCTION=false\n   KMP_DEVICE_THREAD_LIMIT=2147483647\n   KMP_DISP_NUM_BUFFERS=7\n   KMP_DUPLICATE_LIB_OK=false\n   KMP_ENABLE_TASK_THROTTLING=true\n   KMP_FORCE_REDUCTION: value is not defined\n   KMP_FOREIGN_THREADS_THREADPRIVATE=true\n   KMP_FORKJOIN_BARRIER='2,2'\n   KMP_FORKJOIN_BARRIER_PATTERN='hyper,hyper'\n   KMP_GTID_MODE=3\n   KMP_HANDLE_SIGNALS=false\n   KMP_HOT_TEAMS_MAX_LEVEL=1\n   KMP_HOT_TEAMS_MODE=0\n   KMP_INIT_AT_FORK=true\n   KMP_LIBRARY=throughput\n   KMP_LOCK_KIND=queuing\n   KMP_MALLOC_POOL_INCR=1M\n   KMP_NUM_LOCKS_IN_BLOCK=1\n   KMP_PLAIN_BARRIER='2,2'\n   KMP_PLAIN_BARRIER_PATTERN='hyper,hyper'\n   KMP_REDUCTION_BARRIER='1,1'\n   KMP_REDUCTION_BARRIER_PATTERN='hyper,hyper'\n   KMP_SCHEDULE='static,balanced;guided,iterative'\n   KMP_SETTINGS=true\n   KMP_SPIN_BACKOFF_PARAMS='4096,100'\n   KMP_STACKOFFSET=64\n   KMP_STACKPAD=0\n   KMP_STACKSIZE=8M\n   KMP_STORAGE_MAP=false\n   KMP_TASKING=2\n   KMP_TASKLOOP_MIN_TASKS=0\n   KMP_TASK_STEALING_CONSTRAINT=1\n   KMP_TEAMS_THREAD_LIMIT=4\n   KMP_TOPOLOGY_METHOD=all\n   KMP_USE_YIELD=1\n   KMP_VERSION=false\n   KMP_WARNINGS=false\n   OMP_AFFINITY_FORMAT='OMP: pid %P tid %i thread %n bound to OS proc set {%A}'\n   OMP_ALLOCATOR=omp_default_mem_alloc\n   OMP_CANCELLATION=false\n   OMP_DEFAULT_DEVICE=0\n   OMP_DISPLAY_AFFINITY=false\n   OMP_DISPLAY_ENV=false\n   OMP_DYNAMIC=false\n   OMP_MAX_ACTIVE_LEVELS=1\n   OMP_MAX_TASK_PRIORITY=0\n   OMP_NESTED: deprecated; max-active-levels-var=1\n   OMP_NUM_THREADS: value is not defined\n   OMP_PLACES: value is not defined\n   OMP_PROC_BIND='intel'\n   OMP_SCHEDULE='static'\n   OMP_STACKSIZE=8M\n   OMP_TARGET_OFFLOAD=DEFAULT\n   OMP_THREAD_LIMIT=2147483647\n   OMP_WAIT_POLICY=PASSIVE\n   KMP_AFFINITY='verbose,warnings,respect,granularity=fine,compact,1,0'\n\n2022-10-20 20:52:56.504317: I tensorflow/core/common_runtime/process_util.cc:146] Creating new thread pool with default inter op setting: 2. Tune using inter_op_parallelism_threads for best performance.\n",
          "output_type": "stream"
        }
      ]
    },
    {
      "cell_type": "code",
      "source": [
        "import tensorflow\n",
        "from tensorflow.keras.optimizers import SGD\n",
        "otimizador = tensorflow.keras.optimizers.SGD(momentum = 0.9)"
      ],
      "metadata": {
        "execution": {
          "iopub.status.busy": "2022-10-20T20:52:56.596066Z",
          "iopub.execute_input": "2022-10-20T20:52:56.596342Z",
          "iopub.status.idle": "2022-10-20T20:52:56.997121Z",
          "shell.execute_reply.started": "2022-10-20T20:52:56.596289Z",
          "shell.execute_reply": "2022-10-20T20:52:56.996187Z"
        },
        "trusted": true,
        "id": "saaRKFeOMwC0"
      },
      "execution_count": null,
      "outputs": []
    },
    {
      "cell_type": "code",
      "source": [
        "modelo.compile(loss = 'categorical_crossentropy', optimizer = otimizador, metrics = ['acc'])\n",
        "historico = modelo.fit(x_treino_normalizado, y_treino_convertido, epochs = 40, batch_size = 200, validation_data = (x_teste_normalizado, y_teste_convertido), verbose = 1)"
      ],
      "metadata": {
        "execution": {
          "iopub.status.busy": "2022-10-20T20:52:56.998254Z",
          "iopub.execute_input": "2022-10-20T20:52:56.998519Z",
          "iopub.status.idle": "2022-10-20T20:53:38.755446Z",
          "shell.execute_reply.started": "2022-10-20T20:52:56.998489Z",
          "shell.execute_reply": "2022-10-20T20:53:38.754452Z"
        },
        "trusted": true,
        "id": "-X5tp39gMwC2",
        "outputId": "c0723fd5-1ffe-47c0-8a9a-e08586b16639"
      },
      "execution_count": null,
      "outputs": [
        {
          "name": "stderr",
          "text": "2022-10-20 20:52:57.322069: I tensorflow/compiler/mlir/mlir_graph_optimization_pass.cc:185] None of the MLIR Optimization Passes are enabled (registered 2)\n",
          "output_type": "stream"
        },
        {
          "name": "stdout",
          "text": "Epoch 1/40\n300/300 [==============================] - 2s 4ms/step - loss: 1.6719 - acc: 0.4546 - val_loss: 0.6398 - val_acc: 0.8004\nEpoch 2/40\n300/300 [==============================] - 1s 3ms/step - loss: 0.4692 - acc: 0.8631 - val_loss: 0.3627 - val_acc: 0.8954\nEpoch 3/40\n300/300 [==============================] - 1s 3ms/step - loss: 0.3420 - acc: 0.9025 - val_loss: 0.3110 - val_acc: 0.9106\nEpoch 4/40\n300/300 [==============================] - 1s 4ms/step - loss: 0.2921 - acc: 0.9166 - val_loss: 0.2664 - val_acc: 0.9231\nEpoch 5/40\n300/300 [==============================] - 1s 4ms/step - loss: 0.2527 - acc: 0.9282 - val_loss: 0.2326 - val_acc: 0.9338\nEpoch 6/40\n300/300 [==============================] - 1s 4ms/step - loss: 0.2209 - acc: 0.9374 - val_loss: 0.2121 - val_acc: 0.9370\nEpoch 7/40\n300/300 [==============================] - 1s 3ms/step - loss: 0.1967 - acc: 0.9434 - val_loss: 0.1827 - val_acc: 0.9481\nEpoch 8/40\n300/300 [==============================] - 1s 3ms/step - loss: 0.1787 - acc: 0.9484 - val_loss: 0.1720 - val_acc: 0.9496\nEpoch 9/40\n300/300 [==============================] - 1s 3ms/step - loss: 0.1642 - acc: 0.9528 - val_loss: 0.1599 - val_acc: 0.9529\nEpoch 10/40\n300/300 [==============================] - 1s 3ms/step - loss: 0.1525 - acc: 0.9563 - val_loss: 0.1501 - val_acc: 0.9567\nEpoch 11/40\n300/300 [==============================] - 1s 3ms/step - loss: 0.1423 - acc: 0.9588 - val_loss: 0.1503 - val_acc: 0.9546\nEpoch 12/40\n300/300 [==============================] - 1s 3ms/step - loss: 0.1342 - acc: 0.9609 - val_loss: 0.1372 - val_acc: 0.9597\nEpoch 13/40\n300/300 [==============================] - 1s 5ms/step - loss: 0.1258 - acc: 0.9636 - val_loss: 0.1430 - val_acc: 0.9577\nEpoch 14/40\n300/300 [==============================] - 1s 3ms/step - loss: 0.1192 - acc: 0.9662 - val_loss: 0.1288 - val_acc: 0.9622\nEpoch 15/40\n300/300 [==============================] - 1s 3ms/step - loss: 0.1131 - acc: 0.9674 - val_loss: 0.1243 - val_acc: 0.9639\nEpoch 16/40\n300/300 [==============================] - 1s 4ms/step - loss: 0.1081 - acc: 0.9691 - val_loss: 0.1273 - val_acc: 0.9626\nEpoch 17/40\n300/300 [==============================] - 1s 3ms/step - loss: 0.1040 - acc: 0.9700 - val_loss: 0.1171 - val_acc: 0.9662\nEpoch 18/40\n300/300 [==============================] - 1s 3ms/step - loss: 0.0978 - acc: 0.9722 - val_loss: 0.1173 - val_acc: 0.9650\nEpoch 19/40\n300/300 [==============================] - 1s 3ms/step - loss: 0.0954 - acc: 0.9723 - val_loss: 0.1188 - val_acc: 0.9642\nEpoch 20/40\n300/300 [==============================] - 1s 3ms/step - loss: 0.0918 - acc: 0.9737 - val_loss: 0.1111 - val_acc: 0.9676\nEpoch 21/40\n300/300 [==============================] - 1s 3ms/step - loss: 0.0873 - acc: 0.9746 - val_loss: 0.1104 - val_acc: 0.9679\nEpoch 22/40\n300/300 [==============================] - 1s 3ms/step - loss: 0.0842 - acc: 0.9757 - val_loss: 0.1126 - val_acc: 0.9668\nEpoch 23/40\n300/300 [==============================] - 1s 3ms/step - loss: 0.0822 - acc: 0.9759 - val_loss: 0.1108 - val_acc: 0.9655\nEpoch 24/40\n300/300 [==============================] - 1s 3ms/step - loss: 0.0791 - acc: 0.9775 - val_loss: 0.1066 - val_acc: 0.9679\nEpoch 25/40\n300/300 [==============================] - 1s 3ms/step - loss: 0.0758 - acc: 0.9784 - val_loss: 0.1099 - val_acc: 0.9682\nEpoch 26/40\n300/300 [==============================] - 1s 3ms/step - loss: 0.0734 - acc: 0.9791 - val_loss: 0.1152 - val_acc: 0.9666\nEpoch 27/40\n300/300 [==============================] - 1s 3ms/step - loss: 0.0715 - acc: 0.9789 - val_loss: 0.1094 - val_acc: 0.9672\nEpoch 28/40\n300/300 [==============================] - 1s 3ms/step - loss: 0.0693 - acc: 0.9804 - val_loss: 0.1085 - val_acc: 0.9675\nEpoch 29/40\n300/300 [==============================] - 1s 3ms/step - loss: 0.0661 - acc: 0.9803 - val_loss: 0.1074 - val_acc: 0.9676\nEpoch 30/40\n300/300 [==============================] - 1s 3ms/step - loss: 0.0650 - acc: 0.9813 - val_loss: 0.1077 - val_acc: 0.9656\nEpoch 31/40\n300/300 [==============================] - 1s 3ms/step - loss: 0.0647 - acc: 0.9805 - val_loss: 0.1073 - val_acc: 0.9677\nEpoch 32/40\n300/300 [==============================] - 1s 3ms/step - loss: 0.0613 - acc: 0.9825 - val_loss: 0.1038 - val_acc: 0.9679\nEpoch 33/40\n300/300 [==============================] - 1s 3ms/step - loss: 0.0596 - acc: 0.9828 - val_loss: 0.1056 - val_acc: 0.9680\nEpoch 34/40\n300/300 [==============================] - 1s 3ms/step - loss: 0.0582 - acc: 0.9825 - val_loss: 0.1084 - val_acc: 0.9671\nEpoch 35/40\n300/300 [==============================] - 1s 3ms/step - loss: 0.0566 - acc: 0.9831 - val_loss: 0.1082 - val_acc: 0.9673\nEpoch 36/40\n300/300 [==============================] - 1s 3ms/step - loss: 0.0545 - acc: 0.9836 - val_loss: 0.1046 - val_acc: 0.9684\nEpoch 37/40\n300/300 [==============================] - 1s 3ms/step - loss: 0.0536 - acc: 0.9843 - val_loss: 0.1094 - val_acc: 0.9677\nEpoch 38/40\n300/300 [==============================] - 1s 3ms/step - loss: 0.0528 - acc: 0.9842 - val_loss: 0.1075 - val_acc: 0.9680\nEpoch 39/40\n300/300 [==============================] - 1s 3ms/step - loss: 0.0509 - acc: 0.9849 - val_loss: 0.1081 - val_acc: 0.9679\nEpoch 40/40\n300/300 [==============================] - 1s 3ms/step - loss: 0.0496 - acc: 0.9854 - val_loss: 0.1125 - val_acc: 0.9675\n",
          "output_type": "stream"
        }
      ]
    },
    {
      "cell_type": "code",
      "source": [
        "historico.history['acc']"
      ],
      "metadata": {
        "execution": {
          "iopub.status.busy": "2022-10-20T20:53:38.757047Z",
          "iopub.execute_input": "2022-10-20T20:53:38.757392Z",
          "iopub.status.idle": "2022-10-20T20:53:38.763655Z",
          "shell.execute_reply.started": "2022-10-20T20:53:38.757255Z",
          "shell.execute_reply": "2022-10-20T20:53:38.762859Z"
        },
        "trusted": true,
        "id": "OZjIAZqkMwC3",
        "outputId": "5960d988-dcba-45bd-b736-5f5bd2a44622"
      },
      "execution_count": null,
      "outputs": [
        {
          "execution_count": 15,
          "output_type": "execute_result",
          "data": {
            "text/plain": "[0.45463332533836365,\n 0.8631166815757751,\n 0.9024999737739563,\n 0.9166499972343445,\n 0.9282333254814148,\n 0.9373999834060669,\n 0.9433833360671997,\n 0.9484000205993652,\n 0.9528166651725769,\n 0.9563000202178955,\n 0.9587833285331726,\n 0.9608500003814697,\n 0.9635666608810425,\n 0.9662333130836487,\n 0.9673500061035156,\n 0.9691333174705505,\n 0.9700000286102295,\n 0.9721999764442444,\n 0.9723166823387146,\n 0.9737333059310913,\n 0.9745500087738037,\n 0.975683331489563,\n 0.9758833050727844,\n 0.9774666428565979,\n 0.9783999919891357,\n 0.9790833592414856,\n 0.9789333343505859,\n 0.9803500175476074,\n 0.9803000092506409,\n 0.9813166856765747,\n 0.9805166721343994,\n 0.982450008392334,\n 0.9827666878700256,\n 0.9824833273887634,\n 0.9831333160400391,\n 0.9835833311080933,\n 0.9842666387557983,\n 0.9842166900634766,\n 0.9849166870117188,\n 0.9854333400726318]"
          },
          "metadata": {}
        }
      ]
    },
    {
      "cell_type": "code",
      "source": [
        "# Graficando acurácia dos dados de treino e teste\n",
        "\n",
        "acuracia_treino = historico.history['acc']\n",
        "acuracia_teste = historico.history['val_acc']\n",
        "\n",
        "epochs = range(1, len(acuracia_treino)+1)\n",
        "\n",
        "plt.plot(epochs, acuracia_treino, '-g', label = 'Acurácia Dados de Treino')\n",
        "plt.plot(epochs, acuracia_teste, '-b', label = 'Acurácia Dados de Teste')\n",
        "plt.legend()\n",
        "plt.xlabel('Epochs')\n",
        "plt.ylabel('Acurácia')\n",
        "plt.show()"
      ],
      "metadata": {
        "execution": {
          "iopub.status.busy": "2022-10-20T20:53:38.764925Z",
          "iopub.execute_input": "2022-10-20T20:53:38.765210Z",
          "iopub.status.idle": "2022-10-20T20:53:39.026315Z",
          "shell.execute_reply.started": "2022-10-20T20:53:38.765175Z",
          "shell.execute_reply": "2022-10-20T20:53:39.025375Z"
        },
        "trusted": true,
        "id": "kia1iZ0TMwC4",
        "outputId": "f429a1ec-bd48-44a2-cd88-b31310031529"
      },
      "execution_count": null,
      "outputs": [
        {
          "output_type": "display_data",
          "data": {
            "text/plain": "<Figure size 432x288 with 1 Axes>",
            "image/png": "[encoded data removed]"
          },
          "metadata": {
            "needs_background": "light"
          }
        }
      ]
    }
  ]
}